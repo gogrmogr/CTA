{
 "cells": [
  {
   "cell_type": "markdown",
   "metadata": {},
   "source": [
    "# Questions and answers\n",
    "## What questions could you potentially explore/answer with this data?\n",
    "* Is there a trend that ridership increases? If so, which stations see higher than average increase in ridership? This could imply an up and coming neighborhood with potential for further growth of the business's customer base. \n",
    "* Are there stations that are busier (than average) on the weekends? Stations that are busy on the weekends are more likely to be \"destination\" stations where people go for recreational purposes. This is especially a good thing to look for if the business is more \"weekend\" oriented.\n",
    "* If the business is seasonal, are there stations that are busier than average in the appropriate season?\n",
    "* Given demographic or other pertinent information for the stations, is the new location similar demographically to the old location? Presumably, the old location is doing well if looking to open a new location.\n",
    "\n",
    "## Ideally, what other data would you gather or combine to learn even more?\n",
    "Ideally, time of day (to decide if it is a home or work station), demographic data for the station (is it the right demographic for my business), real estate cost, competitor business data.\n",
    "\n",
    "## How would you want to see data presented, to make it actionable by you or others?\n",
    "After identifying all the metrics that are important for the business's success (e.g. neighborhood growth rate, demographic data, cost of rent, number of competitors, etc.) score the stations based on the metrics and present on a map with color coding based on the score. Hovering over the stations should produce the underlying metric information for the stations."
   ]
  },
  {
   "cell_type": "code",
   "execution_count": 11,
   "metadata": {
    "collapsed": true
   },
   "outputs": [],
   "source": [
    "%matplotlib inline\n",
    "import pandas as pd\n",
    "import numpy as np\n",
    "from datetime import datetime\n",
    "import matplotlib.pyplot as plt"
   ]
  },
  {
   "cell_type": "code",
   "execution_count": 7,
   "metadata": {
    "collapsed": false
   },
   "outputs": [
    {
     "data": {
      "text/html": [
       "<div>\n",
       "<table border=\"1\" class=\"dataframe\">\n",
       "  <thead>\n",
       "    <tr style=\"text-align: right;\">\n",
       "      <th></th>\n",
       "      <th>station_id</th>\n",
       "      <th>stationname</th>\n",
       "      <th>date</th>\n",
       "      <th>daytype</th>\n",
       "    </tr>\n",
       "  </thead>\n",
       "  <tbody>\n",
       "    <tr>\n",
       "      <th>count</th>\n",
       "      <td>809326</td>\n",
       "      <td>809326</td>\n",
       "      <td>809326</td>\n",
       "      <td>809326</td>\n",
       "    </tr>\n",
       "    <tr>\n",
       "      <th>unique</th>\n",
       "      <td>146</td>\n",
       "      <td>147</td>\n",
       "      <td>5691</td>\n",
       "      <td>3</td>\n",
       "    </tr>\n",
       "    <tr>\n",
       "      <th>top</th>\n",
       "      <td>40470</td>\n",
       "      <td>Racine</td>\n",
       "      <td>08/01/2011</td>\n",
       "      <td>W</td>\n",
       "    </tr>\n",
       "    <tr>\n",
       "      <th>freq</th>\n",
       "      <td>5711</td>\n",
       "      <td>5711</td>\n",
       "      <td>168</td>\n",
       "      <td>565419</td>\n",
       "    </tr>\n",
       "  </tbody>\n",
       "</table>\n",
       "</div>"
      ],
      "text/plain": [
       "       station_id stationname        date daytype\n",
       "count      809326      809326      809326  809326\n",
       "unique        146         147        5691       3\n",
       "top         40470      Racine  08/01/2011       W\n",
       "freq         5711        5711         168  565419"
      ]
     },
     "execution_count": 7,
     "metadata": {},
     "output_type": "execute_result"
    }
   ],
   "source": [
    "all_data = pd.read_csv(\"D:\\\\Datascope\\\\CTA_Ridership.csv\", dtype={'station_id':'object'})\n",
    "all_data.describe(include=['O'])"
   ]
  },
  {
   "cell_type": "code",
   "execution_count": 9,
   "metadata": {
    "collapsed": false
   },
   "outputs": [],
   "source": [
    "all_data.date = pd.to_datetime(all_data.date,infer_datetime_format=True)"
   ]
  },
  {
   "cell_type": "markdown",
   "metadata": {},
   "source": [
    "## Calculate general ridership trends over time"
   ]
  },
  {
   "cell_type": "code",
   "execution_count": 12,
   "metadata": {
    "collapsed": true
   },
   "outputs": [],
   "source": [
    "# dayly averages\n",
    "byday = all_data.groupby(['date'])['rides'].mean().reset_index()\n",
    "byday  = byday.set_index('date')"
   ]
  },
  {
   "cell_type": "code",
   "execution_count": 13,
   "metadata": {
    "collapsed": true
   },
   "outputs": [],
   "source": [
    "byday['year'] = byday.index.year\n",
    "byday['month'] = byday.index.month\n",
    "byday['day'] = byday.index.day"
   ]
  },
  {
   "cell_type": "code",
   "execution_count": 14,
   "metadata": {
    "collapsed": true
   },
   "outputs": [],
   "source": [
    "# monthly averages\n",
    "monthly_rides = byday.groupby(['year','month']).mean()\n",
    "monthly_rides.reset_index(inplace=True)\n",
    "monthly_rides['date']=pd.to_datetime(monthly_rides['year'].astype(str) + '-' + monthly_rides['month'].astype(str), infer_datetime_format=True)\n",
    "monthly_rides=monthly_rides.set_index('date')"
   ]
  },
  {
   "cell_type": "code",
   "execution_count": 15,
   "metadata": {
    "collapsed": false
   },
   "outputs": [
    {
     "data": {
      "image/png": "[encoded data removed]",
      "text/plain": [
       "<matplotlib.figure.Figure at 0x4065198>"
      ]
     },
     "metadata": {},
     "output_type": "display_data"
    }
   ],
   "source": [
    "# plot the \"L\" ridership over time, calculate the rolling mean and std\n",
    "rolling_mean = monthly_rides.rolling(window=12,center=False).mean()\n",
    "rolling_std = monthly_rides.rolling(window=12,center=False).std()\n",
    "plt.plot(monthly_rides[['rides']], color='blue', label='Monthly')\n",
    "plt.plot(rolling_mean[['rides']], color='red', label='Rolling Mean')\n",
    "plt.plot(rolling_std[['rides']], color='black', label='Rolling Std')\n",
    "plt.legend(loc='best')\n",
    "plt.title('Ridership Rolling Mean & Standard Deviation')\n",
    "plt.show(block=False)"
   ]
  },
  {
   "cell_type": "markdown",
   "metadata": {},
   "source": [
    "Overall, the ridership increases.\n",
    "\n",
    "Let's identify the stations with the steepest increase by calculating linear models for each of the stations. For this purpose, going back more than 5 years will unlikely result in improved performance."
   ]
  },
  {
   "cell_type": "code",
   "execution_count": 16,
   "metadata": {
    "collapsed": true
   },
   "outputs": [],
   "source": [
    "import statsmodels.api as sm"
   ]
  },
  {
   "cell_type": "code",
   "execution_count": 18,
   "metadata": {
    "collapsed": true
   },
   "outputs": [],
   "source": [
    "# get regression lines for all stations (since 2011)\n",
    "def ols_res(df, ycol):\n",
    "    return sm.OLS(df[ycol], sm.add_constant(range(len(df[ycol])))).fit().params"
   ]
  },
  {
   "cell_type": "code",
   "execution_count": 20,
   "metadata": {
    "collapsed": false
   },
   "outputs": [],
   "source": [
    "all_data['year'] = all_data.date.dt.year\n",
    "all_data['month'] = all_data.date.dt.month\n",
    "\n",
    "station_ols = all_data[all_data.year > 2010].groupby(['station_id']).apply(ols_res, ycol='rides').sort_values(by=['x1'],ascending=False)"
   ]
  },
  {
   "cell_type": "code",
   "execution_count": 21,
   "metadata": {
    "collapsed": true
   },
   "outputs": [],
   "source": [
    "# Get the rate of change in ridership per day per person using the station\n",
    "station_ols['daily_change_per_rider'] = station_ols['x1']/station_ols['const']"
   ]
  },
  {
   "cell_type": "markdown",
   "metadata": {},
   "source": [
    "## I assume here that the business is more recreational and weekend oriented.\n",
    "The following calculations are intended to identify the stations that have havier than average traffic on the weekends."
   ]
  },
  {
   "cell_type": "code",
   "execution_count": 22,
   "metadata": {
    "collapsed": true
   },
   "outputs": [],
   "source": [
    "# weekend(holiday)/weekday per station\n",
    "weekdays = all_data[(all_data.year > 2010) & (all_data.daytype == 'W')].groupby(['station_id']).mean()['rides']\n",
    "weekends = all_data[(all_data.year > 2010) & (all_data.daytype != 'W')].groupby(['station_id']).mean()['rides']"
   ]
  },
  {
   "cell_type": "code",
   "execution_count": 23,
   "metadata": {
    "collapsed": true
   },
   "outputs": [],
   "source": [
    "weekdays.name = 'weekdays'\n",
    "weekends.name = 'weekends'"
   ]
  },
  {
   "cell_type": "code",
   "execution_count": 24,
   "metadata": {
    "collapsed": false
   },
   "outputs": [
    {
     "data": {
      "text/html": [
       "<div>\n",
       "<table border=\"1\" class=\"dataframe\">\n",
       "  <thead>\n",
       "    <tr style=\"text-align: right;\">\n",
       "      <th></th>\n",
       "      <th>weekdays</th>\n",
       "      <th>weekends</th>\n",
       "      <th>ratio</th>\n",
       "    </tr>\n",
       "  </thead>\n",
       "  <tbody>\n",
       "    <tr>\n",
       "      <th>count</th>\n",
       "      <td>144.000000</td>\n",
       "      <td>144.000000</td>\n",
       "      <td>144.000000</td>\n",
       "    </tr>\n",
       "    <tr>\n",
       "      <th>mean</th>\n",
       "      <td>4229.483447</td>\n",
       "      <td>2282.869559</td>\n",
       "      <td>0.535938</td>\n",
       "    </tr>\n",
       "    <tr>\n",
       "      <th>std</th>\n",
       "      <td>3516.031043</td>\n",
       "      <td>2203.080948</td>\n",
       "      <td>0.142475</td>\n",
       "    </tr>\n",
       "    <tr>\n",
       "      <th>min</th>\n",
       "      <td>503.138149</td>\n",
       "      <td>256.256494</td>\n",
       "      <td>0.149506</td>\n",
       "    </tr>\n",
       "    <tr>\n",
       "      <th>25%</th>\n",
       "      <td>1638.032649</td>\n",
       "      <td>881.748379</td>\n",
       "      <td>0.443950</td>\n",
       "    </tr>\n",
       "    <tr>\n",
       "      <th>50%</th>\n",
       "      <td>3102.016366</td>\n",
       "      <td>1416.784091</td>\n",
       "      <td>0.532498</td>\n",
       "    </tr>\n",
       "    <tr>\n",
       "      <th>75%</th>\n",
       "      <td>5479.961666</td>\n",
       "      <td>2892.007249</td>\n",
       "      <td>0.617088</td>\n",
       "    </tr>\n",
       "    <tr>\n",
       "      <th>max</th>\n",
       "      <td>19694.416022</td>\n",
       "      <td>11849.746753</td>\n",
       "      <td>0.978821</td>\n",
       "    </tr>\n",
       "  </tbody>\n",
       "</table>\n",
       "</div>"
      ],
      "text/plain": [
       "           weekdays      weekends       ratio\n",
       "count    144.000000    144.000000  144.000000\n",
       "mean    4229.483447   2282.869559    0.535938\n",
       "std     3516.031043   2203.080948    0.142475\n",
       "min      503.138149    256.256494    0.149506\n",
       "25%     1638.032649    881.748379    0.443950\n",
       "50%     3102.016366   1416.784091    0.532498\n",
       "75%     5479.961666   2892.007249    0.617088\n",
       "max    19694.416022  11849.746753    0.978821"
      ]
     },
     "execution_count": 24,
     "metadata": {},
     "output_type": "execute_result"
    }
   ],
   "source": [
    "weekday_analysis = pd.concat([weekdays,weekends],axis=1)\n",
    "weekday_analysis['ratio'] =  weekday_analysis['weekends']/weekday_analysis['weekdays']\n",
    "weekday_analysis.describe()"
   ]
  },
  {
   "cell_type": "code",
   "execution_count": 25,
   "metadata": {
    "collapsed": true
   },
   "outputs": [],
   "source": [
    "station_data = pd.concat([station_ols,weekday_analysis],axis=1)"
   ]
  },
  {
   "cell_type": "code",
   "execution_count": 26,
   "metadata": {
    "collapsed": true
   },
   "outputs": [],
   "source": [
    "station_data = pd.concat([station_data,all_data[all_data.year > 2010][['station_id', 'stationname']].drop_duplicates('station_id').set_index('station_id')], axis=1)"
   ]
  },
  {
   "cell_type": "code",
   "execution_count": 27,
   "metadata": {
    "collapsed": false
   },
   "outputs": [
    {
     "data": {
      "text/html": [
       "<div>\n",
       "<table border=\"1\" class=\"dataframe\">\n",
       "  <thead>\n",
       "    <tr style=\"text-align: right;\">\n",
       "      <th></th>\n",
       "      <th>const</th>\n",
       "      <th>x1</th>\n",
       "      <th>daily_change_per_rider</th>\n",
       "      <th>weekdays</th>\n",
       "      <th>weekends</th>\n",
       "      <th>ratio</th>\n",
       "      <th>stationname</th>\n",
       "    </tr>\n",
       "  </thead>\n",
       "  <tbody>\n",
       "    <tr>\n",
       "      <th>40010</th>\n",
       "      <td>1723.846372</td>\n",
       "      <td>0.010382</td>\n",
       "      <td>0.000006</td>\n",
       "      <td>2092.652875</td>\n",
       "      <td>905.202922</td>\n",
       "      <td>0.432562</td>\n",
       "      <td>Austin-Forest Park</td>\n",
       "    </tr>\n",
       "    <tr>\n",
       "      <th>40020</th>\n",
       "      <td>3228.889524</td>\n",
       "      <td>0.108566</td>\n",
       "      <td>0.000034</td>\n",
       "      <td>3903.284912</td>\n",
       "      <td>2035.711039</td>\n",
       "      <td>0.521538</td>\n",
       "      <td>Harlem-Lake</td>\n",
       "    </tr>\n",
       "    <tr>\n",
       "      <th>40030</th>\n",
       "      <td>1891.153325</td>\n",
       "      <td>-0.222203</td>\n",
       "      <td>-0.000117</td>\n",
       "      <td>1890.245971</td>\n",
       "      <td>1142.264943</td>\n",
       "      <td>0.604294</td>\n",
       "      <td>Pulaski-Lake</td>\n",
       "    </tr>\n",
       "    <tr>\n",
       "      <th>40040</th>\n",
       "      <td>6013.021747</td>\n",
       "      <td>0.078009</td>\n",
       "      <td>0.000013</td>\n",
       "      <td>8033.538838</td>\n",
       "      <td>1627.383253</td>\n",
       "      <td>0.202574</td>\n",
       "      <td>Quincy/Wells</td>\n",
       "    </tr>\n",
       "    <tr>\n",
       "      <th>40050</th>\n",
       "      <td>3433.626727</td>\n",
       "      <td>-0.026705</td>\n",
       "      <td>-0.000008</td>\n",
       "      <td>3841.691011</td>\n",
       "      <td>2400.144481</td>\n",
       "      <td>0.624763</td>\n",
       "      <td>Davis</td>\n",
       "    </tr>\n",
       "  </tbody>\n",
       "</table>\n",
       "</div>"
      ],
      "text/plain": [
       "             const        x1  daily_change_per_rider     weekdays  \\\n",
       "40010  1723.846372  0.010382                0.000006  2092.652875   \n",
       "40020  3228.889524  0.108566                0.000034  3903.284912   \n",
       "40030  1891.153325 -0.222203               -0.000117  1890.245971   \n",
       "40040  6013.021747  0.078009                0.000013  8033.538838   \n",
       "40050  3433.626727 -0.026705               -0.000008  3841.691011   \n",
       "\n",
       "          weekends     ratio         stationname  \n",
       "40010   905.202922  0.432562  Austin-Forest Park  \n",
       "40020  2035.711039  0.521538         Harlem-Lake  \n",
       "40030  1142.264943  0.604294        Pulaski-Lake  \n",
       "40040  1627.383253  0.202574        Quincy/Wells  \n",
       "40050  2400.144481  0.624763               Davis  "
      ]
     },
     "execution_count": 27,
     "metadata": {},
     "output_type": "execute_result"
    }
   ],
   "source": [
    "station_data.head()"
   ]
  },
  {
   "cell_type": "markdown",
   "metadata": {},
   "source": [
    "## Load the CTA station location data"
   ]
  },
  {
   "cell_type": "code",
   "execution_count": 28,
   "metadata": {
    "collapsed": true
   },
   "outputs": [],
   "source": [
    "stop_data = pd.read_csv(\"D:\\\\Datascope\\\\CTA_Stops.csv\", dtype={'MAP_ID':'object'})"
   ]
  },
  {
   "cell_type": "code",
   "execution_count": 30,
   "metadata": {
    "collapsed": false
   },
   "outputs": [
    {
     "data": {
      "text/html": [
       "<div>\n",
       "<table border=\"1\" class=\"dataframe\">\n",
       "  <thead>\n",
       "    <tr style=\"text-align: right;\">\n",
       "      <th></th>\n",
       "      <th>STOP_ID</th>\n",
       "      <th>DIRECTION_ID</th>\n",
       "      <th>STOP_NAME</th>\n",
       "      <th>STATION_NAME</th>\n",
       "      <th>STATION_DESCRIPTIVE_NAME</th>\n",
       "      <th>MAP_ID</th>\n",
       "      <th>ADA</th>\n",
       "      <th>RED</th>\n",
       "      <th>BLUE</th>\n",
       "      <th>G</th>\n",
       "      <th>BRN</th>\n",
       "      <th>P</th>\n",
       "      <th>Pexp</th>\n",
       "      <th>Y</th>\n",
       "      <th>Pnk</th>\n",
       "      <th>O</th>\n",
       "      <th>Location</th>\n",
       "    </tr>\n",
       "  </thead>\n",
       "  <tbody>\n",
       "    <tr>\n",
       "      <th>0</th>\n",
       "      <td>30162</td>\n",
       "      <td>W</td>\n",
       "      <td>18th (54th/Cermak-bound)</td>\n",
       "      <td>18th</td>\n",
       "      <td>18th (Pink Line)</td>\n",
       "      <td>40830</td>\n",
       "      <td>True</td>\n",
       "      <td>False</td>\n",
       "      <td>False</td>\n",
       "      <td>False</td>\n",
       "      <td>False</td>\n",
       "      <td>False</td>\n",
       "      <td>False</td>\n",
       "      <td>False</td>\n",
       "      <td>True</td>\n",
       "      <td>False</td>\n",
       "      <td>(41.857908, -87.669147)</td>\n",
       "    </tr>\n",
       "    <tr>\n",
       "      <th>1</th>\n",
       "      <td>30161</td>\n",
       "      <td>E</td>\n",
       "      <td>18th (Loop-bound)</td>\n",
       "      <td>18th</td>\n",
       "      <td>18th (Pink Line)</td>\n",
       "      <td>40830</td>\n",
       "      <td>True</td>\n",
       "      <td>False</td>\n",
       "      <td>False</td>\n",
       "      <td>False</td>\n",
       "      <td>False</td>\n",
       "      <td>False</td>\n",
       "      <td>False</td>\n",
       "      <td>False</td>\n",
       "      <td>True</td>\n",
       "      <td>False</td>\n",
       "      <td>(41.857908, -87.669147)</td>\n",
       "    </tr>\n",
       "    <tr>\n",
       "      <th>2</th>\n",
       "      <td>30022</td>\n",
       "      <td>N</td>\n",
       "      <td>35th/Archer (Loop-bound)</td>\n",
       "      <td>35th/Archer</td>\n",
       "      <td>35th/Archer (Orange Line)</td>\n",
       "      <td>40120</td>\n",
       "      <td>True</td>\n",
       "      <td>False</td>\n",
       "      <td>False</td>\n",
       "      <td>False</td>\n",
       "      <td>False</td>\n",
       "      <td>False</td>\n",
       "      <td>False</td>\n",
       "      <td>False</td>\n",
       "      <td>False</td>\n",
       "      <td>True</td>\n",
       "      <td>(41.829353, -87.680622)</td>\n",
       "    </tr>\n",
       "    <tr>\n",
       "      <th>3</th>\n",
       "      <td>30023</td>\n",
       "      <td>S</td>\n",
       "      <td>35th/Archer (Midway-bound)</td>\n",
       "      <td>35th/Archer</td>\n",
       "      <td>35th/Archer (Orange Line)</td>\n",
       "      <td>40120</td>\n",
       "      <td>True</td>\n",
       "      <td>False</td>\n",
       "      <td>False</td>\n",
       "      <td>False</td>\n",
       "      <td>False</td>\n",
       "      <td>False</td>\n",
       "      <td>False</td>\n",
       "      <td>False</td>\n",
       "      <td>False</td>\n",
       "      <td>True</td>\n",
       "      <td>(41.829353, -87.680622)</td>\n",
       "    </tr>\n",
       "    <tr>\n",
       "      <th>4</th>\n",
       "      <td>30214</td>\n",
       "      <td>S</td>\n",
       "      <td>35-Bronzeville-IIT (63rd-bound)</td>\n",
       "      <td>35th-Bronzeville-IIT</td>\n",
       "      <td>35th-Bronzeville-IIT (Green Line)</td>\n",
       "      <td>41120</td>\n",
       "      <td>True</td>\n",
       "      <td>False</td>\n",
       "      <td>False</td>\n",
       "      <td>True</td>\n",
       "      <td>False</td>\n",
       "      <td>False</td>\n",
       "      <td>False</td>\n",
       "      <td>False</td>\n",
       "      <td>False</td>\n",
       "      <td>False</td>\n",
       "      <td>(41.831677, -87.625826)</td>\n",
       "    </tr>\n",
       "  </tbody>\n",
       "</table>\n",
       "</div>"
      ],
      "text/plain": [
       "   STOP_ID DIRECTION_ID                        STOP_NAME  \\\n",
       "0    30162            W         18th (54th/Cermak-bound)   \n",
       "1    30161            E                18th (Loop-bound)   \n",
       "2    30022            N         35th/Archer (Loop-bound)   \n",
       "3    30023            S       35th/Archer (Midway-bound)   \n",
       "4    30214            S  35-Bronzeville-IIT (63rd-bound)   \n",
       "\n",
       "           STATION_NAME           STATION_DESCRIPTIVE_NAME MAP_ID   ADA  \\\n",
       "0                  18th                   18th (Pink Line)  40830  True   \n",
       "1                  18th                   18th (Pink Line)  40830  True   \n",
       "2           35th/Archer          35th/Archer (Orange Line)  40120  True   \n",
       "3           35th/Archer          35th/Archer (Orange Line)  40120  True   \n",
       "4  35th-Bronzeville-IIT  35th-Bronzeville-IIT (Green Line)  41120  True   \n",
       "\n",
       "     RED   BLUE      G    BRN      P   Pexp      Y    Pnk      O  \\\n",
       "0  False  False  False  False  False  False  False   True  False   \n",
       "1  False  False  False  False  False  False  False   True  False   \n",
       "2  False  False  False  False  False  False  False  False   True   \n",
       "3  False  False  False  False  False  False  False  False   True   \n",
       "4  False  False   True  False  False  False  False  False  False   \n",
       "\n",
       "                  Location  \n",
       "0  (41.857908, -87.669147)  \n",
       "1  (41.857908, -87.669147)  \n",
       "2  (41.829353, -87.680622)  \n",
       "3  (41.829353, -87.680622)  \n",
       "4  (41.831677, -87.625826)  "
      ]
     },
     "execution_count": 30,
     "metadata": {},
     "output_type": "execute_result"
    }
   ],
   "source": [
    "stop_data.head()"
   ]
  },
  {
   "cell_type": "code",
   "execution_count": 31,
   "metadata": {
    "collapsed": false
   },
   "outputs": [
    {
     "data": {
      "text/html": [
       "<div>\n",
       "<table border=\"1\" class=\"dataframe\">\n",
       "  <thead>\n",
       "    <tr style=\"text-align: right;\">\n",
       "      <th></th>\n",
       "      <th>MAP_ID</th>\n",
       "      <th>Location</th>\n",
       "    </tr>\n",
       "  </thead>\n",
       "  <tbody>\n",
       "    <tr>\n",
       "      <th>count</th>\n",
       "      <td>145</td>\n",
       "      <td>145</td>\n",
       "    </tr>\n",
       "    <tr>\n",
       "      <th>unique</th>\n",
       "      <td>144</td>\n",
       "      <td>145</td>\n",
       "    </tr>\n",
       "    <tr>\n",
       "      <th>top</th>\n",
       "      <td>41400</td>\n",
       "      <td>(41.768367, -87.625724)</td>\n",
       "    </tr>\n",
       "    <tr>\n",
       "      <th>freq</th>\n",
       "      <td>2</td>\n",
       "      <td>1</td>\n",
       "    </tr>\n",
       "  </tbody>\n",
       "</table>\n",
       "</div>"
      ],
      "text/plain": [
       "       MAP_ID                 Location\n",
       "count     145                      145\n",
       "unique    144                      145\n",
       "top     41400  (41.768367, -87.625724)\n",
       "freq        2                        1"
      ]
     },
     "execution_count": 31,
     "metadata": {},
     "output_type": "execute_result"
    }
   ],
   "source": [
    "stop_data[['MAP_ID', 'Location']].drop_duplicates().describe(include=['O'])"
   ]
  },
  {
   "cell_type": "code",
   "execution_count": 32,
   "metadata": {
    "collapsed": false
   },
   "outputs": [
    {
     "data": {
      "text/html": [
       "<div>\n",
       "<table border=\"1\" class=\"dataframe\">\n",
       "  <thead>\n",
       "    <tr style=\"text-align: right;\">\n",
       "      <th></th>\n",
       "      <th>STOP_ID</th>\n",
       "      <th>DIRECTION_ID</th>\n",
       "      <th>STOP_NAME</th>\n",
       "      <th>STATION_NAME</th>\n",
       "      <th>STATION_DESCRIPTIVE_NAME</th>\n",
       "      <th>MAP_ID</th>\n",
       "      <th>ADA</th>\n",
       "      <th>RED</th>\n",
       "      <th>BLUE</th>\n",
       "      <th>G</th>\n",
       "      <th>BRN</th>\n",
       "      <th>P</th>\n",
       "      <th>Pexp</th>\n",
       "      <th>Y</th>\n",
       "      <th>Pnk</th>\n",
       "      <th>O</th>\n",
       "      <th>Location</th>\n",
       "    </tr>\n",
       "  </thead>\n",
       "  <tbody>\n",
       "    <tr>\n",
       "      <th>228</th>\n",
       "      <td>30080</td>\n",
       "      <td>N</td>\n",
       "      <td>Roosevelt (Loop-Harlem-bound)</td>\n",
       "      <td>Roosevelt</td>\n",
       "      <td>Roosevelt (Red, Orange &amp; Green Lines)</td>\n",
       "      <td>41400</td>\n",
       "      <td>True</td>\n",
       "      <td>False</td>\n",
       "      <td>False</td>\n",
       "      <td>True</td>\n",
       "      <td>False</td>\n",
       "      <td>False</td>\n",
       "      <td>False</td>\n",
       "      <td>False</td>\n",
       "      <td>False</td>\n",
       "      <td>True</td>\n",
       "      <td>(41.867405, -87.62659)</td>\n",
       "    </tr>\n",
       "    <tr>\n",
       "      <th>258</th>\n",
       "      <td>30269</td>\n",
       "      <td>N</td>\n",
       "      <td>Roosevelt (Howard-bound)</td>\n",
       "      <td>Roosevelt</td>\n",
       "      <td>Roosevelt (Red, Orange &amp; Green Lines)</td>\n",
       "      <td>41400</td>\n",
       "      <td>True</td>\n",
       "      <td>True</td>\n",
       "      <td>False</td>\n",
       "      <td>False</td>\n",
       "      <td>False</td>\n",
       "      <td>False</td>\n",
       "      <td>False</td>\n",
       "      <td>False</td>\n",
       "      <td>False</td>\n",
       "      <td>False</td>\n",
       "      <td>(41.867368, -87.627402)</td>\n",
       "    </tr>\n",
       "    <tr>\n",
       "      <th>259</th>\n",
       "      <td>30081</td>\n",
       "      <td>S</td>\n",
       "      <td>Roosevelt (Midway-63rd-bound)</td>\n",
       "      <td>Roosevelt</td>\n",
       "      <td>Roosevelt (Red, Orange &amp; Green Lines)</td>\n",
       "      <td>41400</td>\n",
       "      <td>True</td>\n",
       "      <td>False</td>\n",
       "      <td>False</td>\n",
       "      <td>True</td>\n",
       "      <td>False</td>\n",
       "      <td>False</td>\n",
       "      <td>False</td>\n",
       "      <td>False</td>\n",
       "      <td>False</td>\n",
       "      <td>True</td>\n",
       "      <td>(41.867405, -87.62659)</td>\n",
       "    </tr>\n",
       "    <tr>\n",
       "      <th>295</th>\n",
       "      <td>30270</td>\n",
       "      <td>S</td>\n",
       "      <td>Roosevelt (95th-bound)</td>\n",
       "      <td>Roosevelt</td>\n",
       "      <td>Roosevelt (Red, Orange &amp; Green Lines)</td>\n",
       "      <td>41400</td>\n",
       "      <td>True</td>\n",
       "      <td>True</td>\n",
       "      <td>False</td>\n",
       "      <td>False</td>\n",
       "      <td>False</td>\n",
       "      <td>False</td>\n",
       "      <td>False</td>\n",
       "      <td>False</td>\n",
       "      <td>False</td>\n",
       "      <td>False</td>\n",
       "      <td>(41.867368, -87.627402)</td>\n",
       "    </tr>\n",
       "  </tbody>\n",
       "</table>\n",
       "</div>"
      ],
      "text/plain": [
       "     STOP_ID DIRECTION_ID                      STOP_NAME STATION_NAME  \\\n",
       "228    30080            N  Roosevelt (Loop-Harlem-bound)    Roosevelt   \n",
       "258    30269            N       Roosevelt (Howard-bound)    Roosevelt   \n",
       "259    30081            S  Roosevelt (Midway-63rd-bound)    Roosevelt   \n",
       "295    30270            S         Roosevelt (95th-bound)    Roosevelt   \n",
       "\n",
       "                  STATION_DESCRIPTIVE_NAME MAP_ID   ADA    RED   BLUE      G  \\\n",
       "228  Roosevelt (Red, Orange & Green Lines)  41400  True  False  False   True   \n",
       "258  Roosevelt (Red, Orange & Green Lines)  41400  True   True  False  False   \n",
       "259  Roosevelt (Red, Orange & Green Lines)  41400  True  False  False   True   \n",
       "295  Roosevelt (Red, Orange & Green Lines)  41400  True   True  False  False   \n",
       "\n",
       "       BRN      P   Pexp      Y    Pnk      O                 Location  \n",
       "228  False  False  False  False  False   True   (41.867405, -87.62659)  \n",
       "258  False  False  False  False  False  False  (41.867368, -87.627402)  \n",
       "259  False  False  False  False  False   True   (41.867405, -87.62659)  \n",
       "295  False  False  False  False  False  False  (41.867368, -87.627402)  "
      ]
     },
     "execution_count": 32,
     "metadata": {},
     "output_type": "execute_result"
    }
   ],
   "source": [
    "# check why the duplication for station 41400\n",
    "stop_data[stop_data.MAP_ID == '41400']"
   ]
  },
  {
   "cell_type": "code",
   "execution_count": 33,
   "metadata": {
    "collapsed": true
   },
   "outputs": [],
   "source": [
    "# since points are very close on the map, will drop one randomly\n",
    "station_data = pd.concat([station_data,stop_data[['MAP_ID', 'Location']].drop_duplicates('MAP_ID').set_index('MAP_ID')], axis=1)"
   ]
  },
  {
   "cell_type": "code",
   "execution_count": 34,
   "metadata": {
    "collapsed": true
   },
   "outputs": [],
   "source": [
    "# make separate columns for latitude and longitude\n",
    "station_data['Location'] = station_data['Location'].str[1:-1].str.split(',')\n",
    "lat_lons = station_data['Location'].apply(pd.Series)\n",
    "lat_lons.columns = ['lat','lon']\n",
    "lat_lons = lat_lons.astype('float')"
   ]
  },
  {
   "cell_type": "code",
   "execution_count": 35,
   "metadata": {
    "collapsed": false
   },
   "outputs": [
    {
     "data": {
      "text/html": [
       "<div>\n",
       "<table border=\"1\" class=\"dataframe\">\n",
       "  <thead>\n",
       "    <tr style=\"text-align: right;\">\n",
       "      <th></th>\n",
       "      <th>const</th>\n",
       "      <th>x1</th>\n",
       "      <th>daily_change_per_rider</th>\n",
       "      <th>weekdays</th>\n",
       "      <th>weekends</th>\n",
       "      <th>ratio</th>\n",
       "      <th>stationname</th>\n",
       "      <th>lat</th>\n",
       "      <th>lon</th>\n",
       "    </tr>\n",
       "  </thead>\n",
       "  <tbody>\n",
       "    <tr>\n",
       "      <th>40010</th>\n",
       "      <td>1723.846372</td>\n",
       "      <td>0.010382</td>\n",
       "      <td>0.000006</td>\n",
       "      <td>2092.652875</td>\n",
       "      <td>905.202922</td>\n",
       "      <td>0.432562</td>\n",
       "      <td>Austin-Forest Park</td>\n",
       "      <td>41.870851</td>\n",
       "      <td>-87.776812</td>\n",
       "    </tr>\n",
       "    <tr>\n",
       "      <th>40020</th>\n",
       "      <td>3228.889524</td>\n",
       "      <td>0.108566</td>\n",
       "      <td>0.000034</td>\n",
       "      <td>3903.284912</td>\n",
       "      <td>2035.711039</td>\n",
       "      <td>0.521538</td>\n",
       "      <td>Harlem-Lake</td>\n",
       "      <td>41.886848</td>\n",
       "      <td>-87.803176</td>\n",
       "    </tr>\n",
       "    <tr>\n",
       "      <th>40030</th>\n",
       "      <td>1891.153325</td>\n",
       "      <td>-0.222203</td>\n",
       "      <td>-0.000117</td>\n",
       "      <td>1890.245971</td>\n",
       "      <td>1142.264943</td>\n",
       "      <td>0.604294</td>\n",
       "      <td>Pulaski-Lake</td>\n",
       "      <td>41.885412</td>\n",
       "      <td>-87.725404</td>\n",
       "    </tr>\n",
       "    <tr>\n",
       "      <th>40040</th>\n",
       "      <td>6013.021747</td>\n",
       "      <td>0.078009</td>\n",
       "      <td>0.000013</td>\n",
       "      <td>8033.538838</td>\n",
       "      <td>1627.383253</td>\n",
       "      <td>0.202574</td>\n",
       "      <td>Quincy/Wells</td>\n",
       "      <td>41.878723</td>\n",
       "      <td>-87.633740</td>\n",
       "    </tr>\n",
       "    <tr>\n",
       "      <th>40050</th>\n",
       "      <td>3433.626727</td>\n",
       "      <td>-0.026705</td>\n",
       "      <td>-0.000008</td>\n",
       "      <td>3841.691011</td>\n",
       "      <td>2400.144481</td>\n",
       "      <td>0.624763</td>\n",
       "      <td>Davis</td>\n",
       "      <td>42.047710</td>\n",
       "      <td>-87.683543</td>\n",
       "    </tr>\n",
       "  </tbody>\n",
       "</table>\n",
       "</div>"
      ],
      "text/plain": [
       "             const        x1  daily_change_per_rider     weekdays  \\\n",
       "40010  1723.846372  0.010382                0.000006  2092.652875   \n",
       "40020  3228.889524  0.108566                0.000034  3903.284912   \n",
       "40030  1891.153325 -0.222203               -0.000117  1890.245971   \n",
       "40040  6013.021747  0.078009                0.000013  8033.538838   \n",
       "40050  3433.626727 -0.026705               -0.000008  3841.691011   \n",
       "\n",
       "          weekends     ratio         stationname        lat        lon  \n",
       "40010   905.202922  0.432562  Austin-Forest Park  41.870851 -87.776812  \n",
       "40020  2035.711039  0.521538         Harlem-Lake  41.886848 -87.803176  \n",
       "40030  1142.264943  0.604294        Pulaski-Lake  41.885412 -87.725404  \n",
       "40040  1627.383253  0.202574        Quincy/Wells  41.878723 -87.633740  \n",
       "40050  2400.144481  0.624763               Davis  42.047710 -87.683543  "
      ]
     },
     "execution_count": 35,
     "metadata": {},
     "output_type": "execute_result"
    }
   ],
   "source": [
    "station_data = pd.concat([station_data,lat_lons], axis=1)\n",
    "station_data.drop('Location', axis=1, inplace=True)\n",
    "station_data.head()"
   ]
  },
  {
   "cell_type": "markdown",
   "metadata": {},
   "source": [
    "# Rank the stations based on three metrics\n",
    "* High growth rate of the number of riders: indicates potential for business growth\n",
    "* High absolute number weekend riders: indicates good customer base for a weekend oriented business\n",
    "* High ratio of the number of weekend riders to the number of weekday riders: indicates the area is a destination for recreational activity"
   ]
  },
  {
   "cell_type": "code",
   "execution_count": 36,
   "metadata": {
    "collapsed": true
   },
   "outputs": [],
   "source": [
    "weekend_rank = station_data.sort_values(by='weekends',ascending = False).index.to_series()\n",
    "ratio_rank = station_data.sort_values(by='ratio',ascending = False).index.to_series()\n",
    "growth_rank = station_data.sort_values(by='daily_change_per_rider',ascending = False).index.to_series()"
   ]
  },
  {
   "cell_type": "code",
   "execution_count": 37,
   "metadata": {
    "collapsed": true
   },
   "outputs": [],
   "source": [
    "weekend_rank = weekend_rank.reset_index().reset_index().drop('index',axis=1).set_index(0)\n",
    "weekend_rank.columns = ['Weekend_rank']\n",
    "weekend_rank['Weekend_rank'] += 1\n",
    "\n",
    "ratio_rank = ratio_rank.reset_index().reset_index().drop('index',axis=1).set_index(0)\n",
    "ratio_rank.columns = ['Ratio_rank']\n",
    "ratio_rank['Ratio_rank'] += 1\n",
    "\n",
    "growth_rank = growth_rank.reset_index().reset_index().drop('index',axis=1).set_index(0)\n",
    "growth_rank.columns = ['Growth_rank']\n",
    "growth_rank['Growth_rank'] += 1"
   ]
  },
  {
   "cell_type": "code",
   "execution_count": 40,
   "metadata": {
    "collapsed": true
   },
   "outputs": [],
   "source": [
    "station_ranking = pd.concat([weekend_rank,ratio_rank,growth_rank],axis=1)"
   ]
  },
  {
   "cell_type": "markdown",
   "metadata": {},
   "source": [
    "## CTA stations by ridership rate growth\n",
    "![growth](https://raw.githubusercontent.com/gogrmogr/CTA/master/Growth.PNG)"
   ]
  },
  {
   "cell_type": "markdown",
   "metadata": {},
   "source": [
    "## CTA stations by weekend ridership\n",
    "![weekend](https://raw.githubusercontent.com/gogrmogr/CTA/master/WeekendRidership.PNG)"
   ]
  },
  {
   "cell_type": "markdown",
   "metadata": {},
   "source": [
    "## CTA stations by weekend to weekday ridership ratio\n",
    "![ratio](https://raw.githubusercontent.com/gogrmogr/CTA/master/Ratio.PNG)"
   ]
  },
  {
   "cell_type": "markdown",
   "metadata": {},
   "source": [
    "## Calculate total rank based on the sum of the three ranks above"
   ]
  },
  {
   "cell_type": "code",
   "execution_count": 41,
   "metadata": {
    "collapsed": false
   },
   "outputs": [
    {
     "data": {
      "text/html": [
       "<div>\n",
       "<table border=\"1\" class=\"dataframe\">\n",
       "  <thead>\n",
       "    <tr style=\"text-align: right;\">\n",
       "      <th></th>\n",
       "      <th>Total_rank</th>\n",
       "      <th>Weekend_rank</th>\n",
       "      <th>Ratio_rank</th>\n",
       "      <th>Growth_rank</th>\n",
       "      <th>Rank_sum</th>\n",
       "    </tr>\n",
       "    <tr>\n",
       "      <th>index</th>\n",
       "      <th></th>\n",
       "      <th></th>\n",
       "      <th></th>\n",
       "      <th></th>\n",
       "      <th></th>\n",
       "    </tr>\n",
       "  </thead>\n",
       "  <tbody>\n",
       "    <tr>\n",
       "      <th>40330</th>\n",
       "      <td>0</td>\n",
       "      <td>3</td>\n",
       "      <td>3</td>\n",
       "      <td>12</td>\n",
       "      <td>18</td>\n",
       "    </tr>\n",
       "    <tr>\n",
       "      <th>40890</th>\n",
       "      <td>1</td>\n",
       "      <td>5</td>\n",
       "      <td>4</td>\n",
       "      <td>16</td>\n",
       "      <td>25</td>\n",
       "    </tr>\n",
       "    <tr>\n",
       "      <th>40650</th>\n",
       "      <td>2</td>\n",
       "      <td>16</td>\n",
       "      <td>9</td>\n",
       "      <td>18</td>\n",
       "      <td>43</td>\n",
       "    </tr>\n",
       "    <tr>\n",
       "      <th>41660</th>\n",
       "      <td>3</td>\n",
       "      <td>2</td>\n",
       "      <td>65</td>\n",
       "      <td>7</td>\n",
       "      <td>74</td>\n",
       "    </tr>\n",
       "    <tr>\n",
       "      <th>40100</th>\n",
       "      <td>4</td>\n",
       "      <td>32</td>\n",
       "      <td>19</td>\n",
       "      <td>29</td>\n",
       "      <td>80</td>\n",
       "    </tr>\n",
       "  </tbody>\n",
       "</table>\n",
       "</div>"
      ],
      "text/plain": [
       "       Total_rank  Weekend_rank  Ratio_rank  Growth_rank  Rank_sum\n",
       "index                                                             \n",
       "40330           0             3           3           12        18\n",
       "40890           1             5           4           16        25\n",
       "40650           2            16           9           18        43\n",
       "41660           3             2          65            7        74\n",
       "40100           4            32          19           29        80"
      ]
     },
     "execution_count": 41,
     "metadata": {},
     "output_type": "execute_result"
    }
   ],
   "source": [
    "station_ranking = pd.concat([station_ranking, station_ranking.sum(axis=1)], axis=1).sort_values(by=0)\n",
    "station_ranking = station_ranking.reset_index().reset_index().set_index('index')\n",
    "station_ranking.columns = [u'Total_rank', u'Weekend_rank', u'Ratio_rank', u'Growth_rank', 'Rank_sum']\n",
    "station_ranking.head()"
   ]
  },
  {
   "cell_type": "code",
   "execution_count": 44,
   "metadata": {
    "collapsed": false
   },
   "outputs": [
    {
     "data": {
      "text/plain": [
       "<matplotlib.axes._subplots.AxesSubplot at 0xe38ff28>"
      ]
     },
     "execution_count": 44,
     "metadata": {},
     "output_type": "execute_result"
    },
    {
     "data": {
      "image/png": "[encoded data removed]",
      "text/plain": [
       "<matplotlib.figure.Figure at 0xe38fa90>"
      ]
     },
     "metadata": {},
     "output_type": "display_data"
    }
   ],
   "source": [
    "station_ranking.plot(x='Total_rank',y='Rank_sum')"
   ]
  },
  {
   "cell_type": "markdown",
   "metadata": {},
   "source": [
    "## CTA stations total rank score (lower is better)\n",
    "![ranking](https://raw.githubusercontent.com/gogrmogr/CTA/master/Ranking.PNG)"
   ]
  },
  {
   "cell_type": "markdown",
   "metadata": {},
   "source": [
    "### The bright red stations are the best candidates for the new location based on the outlined criteria."
   ]
  },
  {
   "cell_type": "code",
   "execution_count": null,
   "metadata": {
    "collapsed": true
   },
   "outputs": [],
   "source": []
  }
 ],
 "metadata": {
  "kernelspec": {
   "display_name": "Python 2",
   "language": "python",
   "name": "python2"
  },
  "language_info": {
   "codemirror_mode": {
    "name": "ipython",
    "version": 2
   },
   "file_extension": ".py",
   "mimetype": "text/x-python",
   "name": "python",
   "nbconvert_exporter": "python",
   "pygments_lexer": "ipython2",
   "version": "2.7.11"
  }
 },
 "nbformat": 4,
 "nbformat_minor": 0
}
